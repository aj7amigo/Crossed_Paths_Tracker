{
 "cells": [
  {
   "cell_type": "markdown",
   "metadata": {},
   "source": [
    "# Google locations history of 2 persons - json to excel converter"
   ]
  },
  {
   "cell_type": "markdown",
   "metadata": {},
   "source": [
    "#### Author: Akhil James"
   ]
  },
  {
   "cell_type": "markdown",
   "metadata": {},
   "source": [
    "#### The intenetion is to compare the location and time stamp of one person to another.\n",
    "#### This could be used to warn a person in case he/she was in the proximity of a person affected by a pandemic"
   ]
  },
  {
   "cell_type": "markdown",
   "metadata": {},
   "source": [
    "### 1. Import Libraries Perform data wrangling"
   ]
  },
  {
   "cell_type": "code",
   "execution_count": null,
   "metadata": {},
   "outputs": [],
   "source": [
    "#import relevant libraries and load the json file\n",
    "import pandas as pd\n",
    "import json\n",
    "import numpy as np\n",
    "import matplotlib.pyplot as plt\n",
    "from datetime import datetime\n",
    "\n",
    "df = pd.read_json('AJ_Location_History.json')\n",
    "\n",
    "df1 = pd.read_json('RA_Location_History.json')"
   ]
  },
  {
   "cell_type": "code",
   "execution_count": null,
   "metadata": {},
   "outputs": [],
   "source": [
    "#extract the latitude, longitude and timestamp from df\n",
    "df['latitude'] = df['locations'].map(lambda x: x['latitudeE7'])\n",
    "df['longitude'] = df['locations'].map(lambda x: x['longitudeE7'])\n",
    "df['timestamp'] = df['locations'].map(lambda x: x['timestampMs'])\n",
    "\n",
    "# convert latitude/longitude to decimal degrees\n",
    "df['latitude'] = df['latitude'] / 10.**7\n",
    "df['longitude'] = df['longitude'] / 10.**7\n",
    "\n",
    "# convert the timestamp to datetime format and add it in a new column in the df. Converts ms to s\n",
    "df['timestamp'] = df['timestamp'].astype(float) / 1000\n",
    "df['date_and_time'] = df['timestamp'].map(lambda x: datetime.fromtimestamp(x).strftime('%Y-%m-%d %H:%M:%S'))\n",
    "\n",
    "#convert the date into a pandas datetime format\n",
    "df['date_and_time'] = pd.to_datetime(df['date_and_time']) "
   ]
  },
  {
   "cell_type": "code",
   "execution_count": null,
   "metadata": {},
   "outputs": [],
   "source": [
    "#extract the latitude, longitude and timestamp from df1\n",
    "df1['latitude'] = df1['locations'].map(lambda x: x['latitudeE7'])\n",
    "df1['longitude'] = df1['locations'].map(lambda x: x['longitudeE7'])\n",
    "df1['timestamp'] = df1['locations'].map(lambda x: x['timestampMs'])\n",
    "\n",
    "# convert latitude/longitude to decimal degrees\n",
    "df1['latitude'] = df1['latitude'] / 10.**7\n",
    "df1['longitude'] = df1['longitude'] / 10.**7\n",
    "\n",
    "# convert the timestamp to datetime format and add it in a new column in the df1. Converts ms to s\n",
    "df1['timestamp'] = df1['timestamp'].astype(float) / 1000\n",
    "df1['date_and_time'] = df1['timestamp'].map(lambda x: datetime.fromtimestamp(x).strftime('%Y-%m-%d %H:%M:%S'))\n",
    "\n",
    "#convert the date into a pandas datetime format\n",
    "df1['date_and_time'] = pd.to_datetime(df1['date_and_time']) "
   ]
  },
  {
   "cell_type": "code",
   "execution_count": null,
   "metadata": {},
   "outputs": [],
   "source": [
    "#drop the already duplicated columns\n",
    "df = df.drop(labels=['locations', 'timestamp'], axis=1, inplace=False)\n",
    "#df.head()"
   ]
  },
  {
   "cell_type": "code",
   "execution_count": null,
   "metadata": {},
   "outputs": [],
   "source": [
    "#drop the already duplicated columns\n",
    "df1 = df1.drop(labels=['locations', 'timestamp'], axis=1, inplace=False)\n",
    "#df1.head()"
   ]
  },
  {
   "cell_type": "markdown",
   "metadata": {},
   "source": [
    "### 2. Make an extract of the desired data"
   ]
  },
  {
   "cell_type": "code",
   "execution_count": null,
   "metadata": {},
   "outputs": [],
   "source": [
    "#set start date and end date of each months\n",
    "aj_start = '04/28/20 19:45:00'\n",
    "aj_start_datetime_object = datetime.strptime(aj_start, '%m/%d/%y %H:%M:%S')\n",
    "\n",
    "aj_end = '04/29/20 00:00:00'\n",
    "aj_end_datetime_object = datetime.strptime(aj_end, '%m/%d/%y %H:%M:%S')\n"
   ]
  },
  {
   "cell_type": "code",
   "execution_count": null,
   "metadata": {},
   "outputs": [],
   "source": [
    "#define ranges for each month\n",
    "aj_condition = (df['date_and_time']>aj_start_datetime_object) & (df['date_and_time']<aj_end_datetime_object)\n",
    "aj_df = df[aj_condition]\n",
    "#aj_df"
   ]
  },
  {
   "cell_type": "code",
   "execution_count": null,
   "metadata": {},
   "outputs": [],
   "source": [
    "#set start date and end date of each months\n",
    "ra_start = '04/28/20 19:45:00'\n",
    "ra_start_datetime_object = datetime.strptime(ra_start, '%m/%d/%y %H:%M:%S')\n",
    "\n",
    "ra_end = '04/29/20 00:00:00'\n",
    "ra_end_datetime_object = datetime.strptime(ra_end, '%m/%d/%y %H:%M:%S')"
   ]
  },
  {
   "cell_type": "code",
   "execution_count": null,
   "metadata": {},
   "outputs": [],
   "source": [
    "#define ranges for each month\n",
    "ra_condition = (df1['date_and_time']>ra_start_datetime_object) & (df1['date_and_time']<ra_end_datetime_object)\n",
    "ra_df = df1[ra_condition]\n",
    "#ra_df"
   ]
  },
  {
   "cell_type": "markdown",
   "metadata": {},
   "source": [
    "### 3. Export the data frames as 2 different excel files"
   ]
  },
  {
   "cell_type": "code",
   "execution_count": null,
   "metadata": {},
   "outputs": [],
   "source": [
    "aj_df.to_excel('AJ_loc.xlsx', index = False)"
   ]
  },
  {
   "cell_type": "code",
   "execution_count": null,
   "metadata": {},
   "outputs": [],
   "source": [
    "ra_df.to_excel('RA_loc.xlsx', index = False)"
   ]
  },
  {
   "cell_type": "markdown",
   "metadata": {},
   "source": [
    "### 4. Plot the exported excel files using basemap.  Also plot using Tableau or Power BI"
   ]
  },
  {
   "cell_type": "markdown",
   "metadata": {},
   "source": [
    "#### Basemap plot done on a different workbook 'Paths_Crossover_detection.ipynb'"
   ]
  }
 ],
 "metadata": {
  "kernelspec": {
   "display_name": "Python 3",
   "language": "python",
   "name": "python3"
  },
  "language_info": {
   "codemirror_mode": {
    "name": "ipython",
    "version": 3
   },
   "file_extension": ".py",
   "mimetype": "text/x-python",
   "name": "python",
   "nbconvert_exporter": "python",
   "pygments_lexer": "ipython3",
   "version": "3.7.5"
  }
 },
 "nbformat": 4,
 "nbformat_minor": 4
}
