{
 "cells": [
  {
   "cell_type": "markdown",
   "metadata": {},
   "source": [
    "# Paths Crossover Detection"
   ]
  },
  {
   "cell_type": "markdown",
   "metadata": {},
   "source": [
    "#### Author: Akhil James"
   ]
  },
  {
   "cell_type": "markdown",
   "metadata": {},
   "source": [
    "#### Plotting the location history of 2 persons and checking if their paths crossed at the same time."
   ]
  },
  {
   "cell_type": "markdown",
   "metadata": {},
   "source": [
    "### 1. Import Libraries and load data"
   ]
  },
  {
   "cell_type": "code",
   "execution_count": 0,
   "metadata": {
    "colab": {},
    "colab_type": "code",
    "id": "tpIy8nI6Nho2"
   },
   "outputs": [],
   "source": [
    "import matplotlib.pyplot as plt\n",
    "from mpl_toolkits.basemap import Basemap\n",
    "import pandas as pd\n",
    "import numpy as np"
   ]
  },
  {
   "cell_type": "code",
   "execution_count": 0,
   "metadata": {
    "colab": {},
    "colab_type": "code",
    "id": "7WTClavKGqzH"
   },
   "outputs": [],
   "source": [
    "# For privacy reasons, I have deleted these files.\n",
    "# Use the ones you created using 'Location_history_converter-json_to_excel.ipynb'\n",
    "aj_url = 'https://github.com/aj7amigo/Crossed_Paths_Tracker/blob/master/AJ_loc.xlsx?raw=true'\n",
    "ra_url = 'https://github.com/aj7amigo/Crossed_Paths_Tracker/blob/master/RA_loc.xlsx?raw=true'"
   ]
  },
  {
   "cell_type": "code",
   "execution_count": 0,
   "metadata": {
    "colab": {},
    "colab_type": "code",
    "id": "7SgT4ZaZMQuU"
   },
   "outputs": [],
   "source": [
    "aj_df = pd.read_excel(aj_url)\n",
    "ra_df = pd.read_excel(ra_url)\n",
    "ra_df = ra_df.tail(20)"
   ]
  },
  {
   "cell_type": "code",
   "execution_count": 0,
   "metadata": {
    "colab": {},
    "colab_type": "code",
    "id": "XsHC002-MuAo"
   },
   "outputs": [],
   "source": [
    "#convert the date_and_time column into a pandas datetime format\n",
    "aj_df['date_and_time']  = pd.to_datetime(aj_df['date_and_time'])\n",
    "ra_df['date_and_time']  = pd.to_datetime(ra_df['date_and_time'])\n",
    "\n",
    "aj_lat = aj_df['latitude'].values\n",
    "aj_lon = aj_df['longitude'].values\n",
    "aj_time = aj_df['date_and_time'].values\n",
    "\n",
    "ra_lat = ra_df['latitude'].values\n",
    "ra_lon = ra_df['longitude'].values\n",
    "ra_time = ra_df['date_and_time'].values"
   ]
  },
  {
   "cell_type": "markdown",
   "metadata": {},
   "source": [
    "### 2. Configure Basemap"
   ]
  },
  {
   "cell_type": "code",
   "execution_count": 0,
   "metadata": {
    "colab": {},
    "colab_type": "code",
    "id": "bQA2u7_QNIWc"
   },
   "outputs": [],
   "source": [
    "#create map using BASEMAP\n",
    "\n",
    "# you can get the values of llcrnrlon, llcrnrlat, urcrnrlon and urcrnrlat from https://www.openstreetmap.org\n",
    "# Click on export and search for your desired area. Click on \"Manually select a different area\".\n",
    "# Adjust the rectangle to fit your desired area. The values of latitudes and longitudes will be available in the left window.\n",
    "\n",
    "#For privacy reasons I have changed values below from my actual values\n",
    "m = Basemap(llcrnrlon=9.74678,\n",
    "            llcrnrlat=52.37220,\n",
    "            urcrnrlon=9.74220,\n",
    "            urcrnrlat=52.37466,\n",
    "            )"
   ]
  },
  {
   "cell_type": "markdown",
   "metadata": {},
   "source": [
    "### 3. Plot the paths"
   ]
  },
  {
   "cell_type": "code",
   "execution_count": 6,
   "metadata": {
    "colab": {
     "base_uri": "https://localhost:8080/",
     "height": 202
    },
    "colab_type": "code",
    "id": "Tt00m6kzNi9o",
    "outputId": "9d86af06-fcda-4759-8863-80603c06f7a9"
   },
   "outputs": [
    {
     "data": {
      "image/png": "[encoded data removed]",
      "text/plain": [
       "<Figure size 432x288 with 1 Axes>"
      ]
     },
     "metadata": {
      "tags": []
     },
     "output_type": "display_data"
    }
   ],
   "source": [
    "# convert lat and lon to map projection coordinates\n",
    "lons, lats = m(aj_lon, aj_lat)\n",
    "# plot aj points as blue dots\n",
    "m.scatter(aj_lon, aj_lat, marker = 'o', color='b', zorder=5)\n",
    "# plot ra points as green dots\n",
    "m.scatter(ra_lon, ra_lat, marker = 'x', color='g', zorder=5)\n",
    "plt.title('Paths crossover')\n",
    "plt.show()"
   ]
  },
  {
   "cell_type": "markdown",
   "metadata": {},
   "source": [
    "### 4. Find the crossover location and time stamp"
   ]
  },
  {
   "cell_type": "code",
   "execution_count": 0,
   "metadata": {
    "colab": {},
    "colab_type": "code",
    "id": "OmFVe_jt0tPp"
   },
   "outputs": [],
   "source": [
    "for x in range (len(aj_df)):\n",
    "  for y in range (len(ra_df)):\n",
    "    if (abs(aj_lat[x] - ra_lat[y]) < 0.00003) and (abs(aj_lon[x] - ra_lon[y]) < 0.00003) and ((aj_time[x] - ra_time[y]) <= np.timedelta64(3, 's')):\n",
    "      print('Latitudes, longitudes and time match at :')\n",
    "      print(aj_lat[x], aj_lon[x], aj_time[x])\n",
    "      print(ra_lat[y], ra_lon[y], ra_time[y])\n",
    "      print('Time diff in sec : ')\n",
    "      print((aj_time[x] - ra_time[y])/np.timedelta64(1, 's'))"
   ]
  },
  {
   "cell_type": "markdown",
   "metadata": {},
   "source": [
    "### The results is stored in the results folder of github"
   ]
  }
 ],
 "metadata": {
  "colab": {
   "collapsed_sections": [],
   "name": "Location_tracker",
   "provenance": []
  },
  "kernelspec": {
   "display_name": "Python 3",
   "language": "python",
   "name": "python3"
  },
  "language_info": {
   "codemirror_mode": {
    "name": "ipython",
    "version": 3
   },
   "file_extension": ".py",
   "mimetype": "text/x-python",
   "name": "python",
   "nbconvert_exporter": "python",
   "pygments_lexer": "ipython3",
   "version": "3.7.5"
  }
 },
 "nbformat": 4,
 "nbformat_minor": 1
}
